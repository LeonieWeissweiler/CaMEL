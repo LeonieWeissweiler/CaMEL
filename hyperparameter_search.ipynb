{
 "cells": [
  {
   "cell_type": "code",
   "execution_count": null,
   "metadata": {},
   "outputs": [],
   "source": [
    "import pickle\n",
    "import numpy as np\n",
    "\n",
    "user_path = '/mounts/work/weissweiler/deepcase/final_data/spacy_3.2_trf/'\n",
    "silver = pickle.load(open(\"silver_standard.p\", \"rb\"))"
   ]
  },
  {
   "cell_type": "code",
   "execution_count": null,
   "metadata": {},
   "outputs": [],
   "source": [
    "def test_hyperparameters(min_freq, min_oddsratio, min_pvalue):\n",
    "    ngrams_decided = {}\n",
    "    filtered_ngrams_freq_oddsratio = pickle.load(open(user_path + 'ngrams_with_fisher.p', 'rb'))\n",
    "    for prf in filtered_ngrams_freq_oddsratio.keys():\n",
    "\n",
    "        ngrams_decided[prf] = set()\n",
    "        filtered_prf = filtered_ngrams_freq_oddsratio[prf]\n",
    "        for ngram, data in filtered_prf.items():\n",
    "            (freq_inside, oddsratio, pvalue) = data\n",
    "\n",
    "            if freq_inside > min_freq and oddsratio > min_oddsratio and pvalue < min_pvalue:\n",
    "                if ngram[-1] == \"$\":\n",
    "                    ngrams_decided[prf].add(ngram)\n",
    "\n",
    "    precisions = []\n",
    "    recalls = []\n",
    "    fmeasures = []\n",
    "    for lang, ngram_set in ngrams_decided.items():\n",
    "        lang = lang[:3] #numbers come in from bible version\n",
    "        if lang in silver: #3 languages that were taken out of the silver stndard late\n",
    "            lang_silver = silver[lang]\n",
    "            tp = ngram_set & lang_silver\n",
    "\n",
    "            if len (ngram_set) > 0:\n",
    "                precision = len(tp) / len(ngram_set)\n",
    "                recall = len(tp) / len(lang_silver)\n",
    "            else:\n",
    "                precision = 0\n",
    "                recall = 0\n",
    "\n",
    "            if precision > 0 or recall > 0:\n",
    "                fmeasure = 2*((precision * recall)/(precision + recall))\n",
    "            else:\n",
    "                fmeasure = 0\n",
    "\n",
    "            precisions.append(precision)\n",
    "            recalls.append(recall)\n",
    "            fmeasures.append(fmeasure)\n",
    "            \n",
    "            print(lang, \"PR\", round(precision, 2), \"RE\", round(recall, 2), \"F1\", round(fmeasure,2))\n",
    "\n",
    "    average_pr = sum(precisions)/len(precisions)\n",
    "    average_re = sum(recalls)/len(recalls)\n",
    "    average_f1 = sum(fmeasures)/len(fmeasures)\n",
    "\n",
    "    print(\"average PR\", round(average_pr, 2))\n",
    "    print(\"average RE\", round(average_re, 2))\n",
    "    print(\"average F1\", round(average_f1, 2))\n",
    "\n",
    "    return average_f1, ngrams_decided"
   ]
  },
  {
   "cell_type": "code",
   "execution_count": null,
   "metadata": {},
   "outputs": [],
   "source": [
    "for min_freq in range(90,100):\n",
    "    for min_oddsratio in np.arange(0.3, 0.4, 0.01):\n",
    "        for min_pvalue in np.arange(0.01, 0.1, 0.01):\n",
    "            f1, _ = test_hyperparameters(min_freq, min_oddsratio, min_pvalue)\n",
    "            print(f1, \"|\", min_freq, min_oddsratio, min_pvalue)"
   ]
  },
  {
   "cell_type": "code",
   "execution_count": null,
   "metadata": {},
   "outputs": [],
   "source": [
    "min_freq = 96\n",
    "min_oddsratio = 0.34\n",
    "min_pvalue = 0.08\n",
    "f1, ngrams = test_hyperparameters(min_freq, min_oddsratio, min_pvalue)\n",
    "print(f1, \"|\", min_freq, min_oddsratio, min_pvalue)\n",
    "pickle.dump(ngrams, open(user_path + 'found_case_markers.p', 'wb'))\n"
   ]
  }
 ],
 "metadata": {
  "interpreter": {
   "hash": "b1b9738adbb2be2135a334ed37b066ce2650e95c9eb77e540790e64cc2c6b12d"
  },
  "kernelspec": {
   "display_name": "Python 3.8.6 64-bit ('deepcase': conda)",
   "name": "python3"
  },
  "language_info": {
   "codemirror_mode": {
    "name": "ipython",
    "version": 3
   },
   "file_extension": ".py",
   "mimetype": "text/x-python",
   "name": "python",
   "nbconvert_exporter": "python",
   "pygments_lexer": "ipython3",
   "version": "3.8.6"
  },
  "orig_nbformat": 4
 },
 "nbformat": 4,
 "nbformat_minor": 2
}
