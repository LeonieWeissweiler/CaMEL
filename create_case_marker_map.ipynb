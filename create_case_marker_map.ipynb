{
 "cells": [
  {
   "cell_type": "code",
   "execution_count": 2,
   "metadata": {},
   "outputs": [],
   "source": [
    "from align_reader import *\n",
    "import pickle\n",
    "import numpy as np\n",
    "import matplotlib.pyplot as plt"
   ]
  },
  {
   "cell_type": "code",
   "execution_count": 3,
   "metadata": {},
   "outputs": [],
   "source": [
    "user_path = '/mounts/work/weissweiler/deepcase/final_data/spacy_3.2_trf/'\n",
    "(matrix_tsne, verse_dict, langword_to_id) = pickle.load(open(user_path + \"matrix_tsne.p\", \"rb\"))"
   ]
  },
  {
   "cell_type": "code",
   "execution_count": 4,
   "metadata": {},
   "outputs": [],
   "source": [
    "def get_ngrams(word):\n",
    "    ngrams = set()\n",
    "    word = '$' + word.lower() + '$'\n",
    "    word_length = len(word)\n",
    "    for first_i in range(word_length):\n",
    "            if first_i == 1:\n",
    "                continue\n",
    "\n",
    "            ngram = word[first_i:]\n",
    "            if ngram != \"$\":\n",
    "                ngrams.add(ngram)\n",
    "\n",
    "    return ngrams"
   ]
  },
  {
   "cell_type": "code",
   "execution_count": 20,
   "metadata": {},
   "outputs": [
    {
     "data": {
      "image/png": "[encoded data removed]",
      "text/plain": [
       "<Figure size 576x576 with 1 Axes>"
      ]
     },
     "metadata": {
      "needs_background": "light"
     },
     "output_type": "display_data"
    }
   ],
   "source": [
    "\n",
    "\n",
    "plt.rcParams['figure.figsize'] = [8, 8]\n",
    "\n",
    "base_ngram = \"lat:ibus$\"\n",
    "search_ngrams = {\"pol:ach$\":\"orange\", \"pol:om$\":\"green\"}\n",
    "colour_to_ngram = {colour:ngram for ngram, colour in search_ngrams.items()}\n",
    "all_colours = sorted(search_ngrams.values())\n",
    "search_languages = {ngram[:3] for ngram in search_ngrams}\n",
    "\n",
    "\n",
    "colour_points_dict = {colour:([], []) for colour in all_colours}\n",
    "rgb = {\"orange\":[224 / 255, 131 / 255, 24 / 255], \"green\":[74 / 255, 133 / 255, 50 / 255]}\n",
    "orange = [224 / 255, 131 / 255, 24 / 255]\n",
    "green = [74 / 255, 133 / 255, 50 / 255]\n",
    "xlim = (-40,20)\n",
    "ylim = (-15, 20)\n",
    "fig, ax = plt.subplots()\n",
    "ax.set_xlim(xlim[0], xlim[1])\n",
    "ax.set_ylim(ylim[0], ylim[1])\n",
    "\n",
    "colour_sums = {colour:([0,0]) for colour in all_colours}\n",
    "colour_count = {colour:0 for colour in all_colours}\n",
    "\n",
    "for (nounp_id, nounp), (x, y) in zip(sorted(verse_dict.items()), matrix_tsne):\n",
    "    if xlim[0] < x < xlim[1] and ylim[0] < y < ylim[1]:\n",
    "        search_ngrams_present = set()\n",
    "        base_ngram_present = False\n",
    "        for prf, words in nounp.items():\n",
    "            if prf == base_ngram[:3]:\n",
    "                for word in words:\n",
    "                    ngrams = get_ngrams(word)\n",
    "                    for ngram in ngrams:\n",
    "                        longer_ngram = prf + \":\" + ngram\n",
    "                        if longer_ngram == base_ngram:\n",
    "                            base_ngram_present = True\n",
    "            elif prf in search_languages:\n",
    "                for word in words:\n",
    "                    ngrams = get_ngrams(word)\n",
    "                    for ngram in ngrams:\n",
    "                        longer_ngram = prf + \":\" + ngram\n",
    "                        if longer_ngram in search_ngrams:\n",
    "                            search_ngrams_present.add(longer_ngram)\n",
    "        \n",
    "        if not (base_ngram_present and len(search_ngrams_present) > 0):\n",
    "            continue\n",
    "        if len(search_ngrams_present) == 1:\n",
    "            colour = search_ngrams[list(search_ngrams_present)[0]]\n",
    "            colour_points_dict[colour][0].append(x)\n",
    "            colour_points_dict[colour][1].append(y)\n",
    "            colour_sums[colour][0] += x\n",
    "            colour_sums[colour][1] += y\n",
    "            colour_count[colour] += 1\n",
    "\n",
    "        elif len(search_ngrams_present) > 1:\n",
    "            raise NotImplementedError(\"This could work with multiple languages but isn't fully implemented\")\n",
    "\n",
    "for colour, sum_lists in colour_sums.items():\n",
    "    x = sum_lists[0] / colour_count[colour]\n",
    "    y = sum_lists[1] / colour_count[colour]\n",
    "    ax.scatter(x,y, color=rgb[colour], s=150, marker=\"x\")\n",
    "\n",
    "scattered_list = []\n",
    "for colour, (x,y) in colour_points_dict.items():\n",
    "    ax.scatter(x,y, color=rgb[colour], s=20, label=colour_to_ngram[colour])\n",
    "\n",
    "ax.axis('off')\n",
    "\n",
    "ax.legend()\n",
    "fig.savefig(\"case_marker_map_pol_ach_om.pdf\", bbox_inches='tight',pad_inches = 0)\n",
    "fig.show()"
   ]
  },
  {
   "cell_type": "code",
   "execution_count": null,
   "metadata": {},
   "outputs": [],
   "source": []
  }
 ],
 "metadata": {
  "interpreter": {
   "hash": "b1b9738adbb2be2135a334ed37b066ce2650e95c9eb77e540790e64cc2c6b12d"
  },
  "kernelspec": {
   "display_name": "Python 3.8.6 64-bit ('deepcase': conda)",
   "name": "python3"
  },
  "language_info": {
   "codemirror_mode": {
    "name": "ipython",
    "version": 3
   },
   "file_extension": ".py",
   "mimetype": "text/x-python",
   "name": "python",
   "nbconvert_exporter": "python",
   "pygments_lexer": "ipython3",
   "version": "3.8.6"
  },
  "orig_nbformat": 4
 },
 "nbformat": 4,
 "nbformat_minor": 2
}
