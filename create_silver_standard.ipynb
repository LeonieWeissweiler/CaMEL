{
 "cells": [
  {
   "cell_type": "code",
   "execution_count": 3,
   "metadata": {},
   "outputs": [],
   "source": [
    "import os\n",
    "from align_reader import *\n",
    "import re\n",
    "from tqdm import tqdm\n",
    "from collections import Counter\n",
    "import pickle"
   ]
  },
  {
   "cell_type": "code",
   "execution_count": 2,
   "metadata": {},
   "outputs": [],
   "source": [
    "alignment_reader = AlignReaderBible()\n",
    "languages = set([alignment_reader.lang_prf_map[lang][:3] for lang in alignment_reader.all_langs if lang[:3] != 'eng'])\n",
    "small_languages = ['bre', 'kat', 'kor', 'plt'] #excluded from the experiment because they did not contain enough verses\n",
    "unreliable_languages = ['aze','bak','bul','dan','est','fin','heb','hun','hye','kan','kaz','lav','mkd','nld','ron','tat','tel','tgk','tur','urd','uzb'] #silver standard obviously not of sufficient quality\n",
    "languages.difference_update(small_languages)\n",
    "languages.difference_update(unreliable_languages)\n",
    "\n",
    "unimorph_path = '../../unimorph/'"
   ]
  },
  {
   "cell_type": "code",
   "execution_count": 7,
   "metadata": {
    "tags": []
   },
   "outputs": [
    {
     "name": "stderr",
     "output_type": "stream",
     "text": [
      "100%|██████████| 154/154 [00:21<00:00,  7.23it/s]\n"
     ]
    }
   ],
   "source": [
    "pos_tags = set(['ADJ', 'N'])\n",
    "regex = re.compile(r'[a-z][A-Z]')\n",
    "numbers = re.compile(r'[1-9]')\n",
    "lang_freqs = Counter()\n",
    "lang_pairs = {}\n",
    "\n",
    "for lang in tqdm(os.listdir(unimorph_path)):\n",
    "    lang_dir = unimorph_path + lang + '/'\n",
    "    if os.path.isdir(lang_dir):\n",
    "        if lang in languages:\n",
    "            lang_pairs[lang] = {}\n",
    "            input = open(lang_dir + lang)\n",
    "            for line in input:\n",
    "                if '|' in line or '(' in line or ')' in line or re.search(regex, line):\n",
    "                    continue\n",
    "                line = line.strip()\n",
    "                line = line.split('\\t')\n",
    "                if len(line) == 3:\n",
    "                    base = line[0].split(' ')[-1]\n",
    "                    var = line[1].split(' ')[-1]\n",
    "                    tag = line[2].split(';')[0]\n",
    "\n",
    "                    if len(var) == 0 or len(base) == 0:\n",
    "                        print(lang, line)\n",
    "\n",
    "                    if base[-1] == '-':\n",
    "                        base = base[:-1]\n",
    "\n",
    "                    if var[-1] == '-':\n",
    "                        var = var[:-1]\n",
    "\n",
    "                    if tag in pos_tags:\n",
    "                        if base not in lang_pairs[lang]:\n",
    "                            lang_pairs[lang][base] = Counter()\n",
    "                        lang_pairs[lang][base][var] += 1\n",
    "\n",
    "            input.close()\n"
   ]
  },
  {
   "cell_type": "code",
   "execution_count": 8,
   "metadata": {},
   "outputs": [],
   "source": [
    "lang_pairs = {lang: pairs for lang, pairs in lang_pairs.items() if len(pairs) > 0}"
   ]
  },
  {
   "cell_type": "code",
   "execution_count": 9,
   "metadata": {},
   "outputs": [],
   "source": [
    "def common_prefix(all_strings):\n",
    "    prefixes = Counter()\n",
    "\n",
    "    for take_out in all_strings.keys():\n",
    "        strings = list(all_strings.keys())\n",
    "        if all_strings[take_out] == 1:\n",
    "            strings.remove(take_out)\n",
    "            if not strings:\n",
    "                return ''\n",
    "            prefix = strings[0]\n",
    "            for s in strings:\n",
    "                if len(s) < len(prefix):\n",
    "                    prefix = prefix[:len(s)]\n",
    "                if not prefix:\n",
    "                    return ''\n",
    "                for i in range(len(prefix)):\n",
    "                    if prefix[i] != s[i]:\n",
    "                        prefix = prefix[:i]\n",
    "                        break\n",
    "\n",
    "            prefixes[prefix] += 1\n",
    "\n",
    "    strings = list(all_strings.keys())\n",
    "    if not strings:\n",
    "        return ''\n",
    "    prefix = strings[0]\n",
    "    for s in strings:\n",
    "        if len(s) < len(prefix):\n",
    "            prefix = prefix[:len(s)]\n",
    "        if not prefix:\n",
    "            return ''\n",
    "        for i in range(len(prefix)):\n",
    "            if prefix[i] != s[i]:\n",
    "                prefix = prefix[:i]\n",
    "                break\n",
    "\n",
    "    prefixes[prefix] += 1 \n",
    "\n",
    "    return max(prefixes)"
   ]
  },
  {
   "cell_type": "code",
   "execution_count": 10,
   "metadata": {
    "tags": []
   },
   "outputs": [
    {
     "name": "stderr",
     "output_type": "stream",
     "text": [
      "100%|██████████| 19/19 [00:10<00:00,  1.79it/s]\n"
     ]
    }
   ],
   "source": [
    "ngram_counters = {}\n",
    "lang_sizes = Counter()\n",
    "for lang, base_sets in tqdm(lang_pairs.items()):\n",
    "    ngram_counters[lang] = Counter()\n",
    "    for base, var_set in base_sets.items():\n",
    "            if len(var_set) == 1:\n",
    "                root = base\n",
    "            else:\n",
    "                root_candidate = common_prefix(var_set)\n",
    "                if base != root_candidate:\n",
    "                    \n",
    "                    if root_candidate[:len(base)] == base:\n",
    "                        root = root_candidate\n",
    "                    elif base[:len(root_candidate)] == root_candidate:\n",
    "                        root = base\n",
    "                    else:\n",
    "                        continue\n",
    "                else:\n",
    "                    root = root_candidate\n",
    "\n",
    "\n",
    "            for var in var_set:\n",
    "                root_l = len(root)\n",
    "                if var[:root_l] == root:\n",
    "                    rest = var[root_l:] + '$'\n",
    "                else:\n",
    "                    continue\n",
    "\n",
    "                ngram_counters[lang][rest] += 1\n",
    "    "
   ]
  },
  {
   "cell_type": "code",
   "execution_count": 11,
   "metadata": {
    "tags": []
   },
   "outputs": [],
   "source": [
    "finished_silver_standard = {}\n",
    "for lang, ngrams in sorted(ngram_counters.items()):\n",
    "    finished_silver_standard[lang] = set()\n",
    "    for ngram, count in sorted(ngrams.items(), key=lambda x:x[1], reverse=True):\n",
    "        if count > 1 and ngram != '$':\n",
    "            finished_silver_standard[lang].add(ngram)\n",
    "\n",
    "pickle.dump(finished_silver_standard, open('silver_standard.p', 'wb'))"
   ]
  },
  {
   "cell_type": "code",
   "execution_count": 4,
   "metadata": {},
   "outputs": [],
   "source": [
    "final_nps = pickle.load(open('/mounts/work/weissweiler/deepcase/pickle/bible/' + 'final_nps.p', 'rb'))"
   ]
  },
  {
   "cell_type": "code",
   "execution_count": 9,
   "metadata": {},
   "outputs": [
    {
     "data": {
      "text/plain": [
       "{(2,), (6,)}"
      ]
     },
     "execution_count": 9,
     "metadata": {},
     "output_type": "execute_result"
    }
   ],
   "source": [
    "final_nps['42015003']['eng1']['deui']"
   ]
  },
  {
   "cell_type": "code",
   "execution_count": null,
   "metadata": {},
   "outputs": [],
   "source": []
  }
 ],
 "metadata": {
  "interpreter": {
   "hash": "b1b9738adbb2be2135a334ed37b066ce2650e95c9eb77e540790e64cc2c6b12d"
  },
  "kernelspec": {
   "display_name": "Python 3.8.6 64-bit ('deepcase': conda)",
   "name": "python3"
  },
  "language_info": {
   "codemirror_mode": {
    "name": "ipython",
    "version": 3
   },
   "file_extension": ".py",
   "mimetype": "text/x-python",
   "name": "python",
   "nbconvert_exporter": "python",
   "pygments_lexer": "ipython3",
   "version": "3.8.6"
  },
  "orig_nbformat": 2
 },
 "nbformat": 4,
 "nbformat_minor": 2
}
